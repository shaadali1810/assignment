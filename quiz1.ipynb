{
 "cells": [
  {
   "cell_type": "code",
   "execution_count": null,
   "id": "2a20e456-cc2b-4c9f-b272-b6bd17888f3d",
   "metadata": {},
   "outputs": [],
   "source": [
    "ans 1 guido van rossum"
   ]
  },
  {
   "cell_type": "code",
   "execution_count": null,
   "id": "2af1b6bf-1232-4cdd-86be-1e6af1139358",
   "metadata": {},
   "outputs": [],
   "source": [
    "ans2 object oriented,functional and structural programmming"
   ]
  },
  {
   "cell_type": "code",
   "execution_count": null,
   "id": "54c4b8e6-0f9a-42fa-9133-b018e13756d4",
   "metadata": {},
   "outputs": [],
   "source": [
    "ans3 yes"
   ]
  },
  {
   "cell_type": "code",
   "execution_count": null,
   "id": "46804cd0-022a-4749-960f-194810d9b5bd",
   "metadata": {},
   "outputs": [],
   "source": [
    "ans4: .py"
   ]
  },
  {
   "cell_type": "code",
   "execution_count": null,
   "id": "df1ca344-0b92-41ed-982a-d15ccfcdf3f6",
   "metadata": {},
   "outputs": [],
   "source": [
    "ans5:interpreted "
   ]
  },
  {
   "cell_type": "code",
   "execution_count": null,
   "id": "5ba81aa1-8caa-4e18-bb90-70ac3a03e68c",
   "metadata": {},
   "outputs": [],
   "source": [
    "ans6: amodule, function body"
   ]
  },
  {
   "cell_type": "code",
   "execution_count": null,
   "id": "04d1b415-dffb-4158-b9a4-8526b042f848",
   "metadata": {},
   "outputs": [],
   "source": [
    "ans7: #\n",
    "    "
   ]
  },
  {
   "cell_type": "code",
   "execution_count": null,
   "id": "653d0e51-7f1f-4ae4-9272-724add5395e4",
   "metadata": {},
   "outputs": [],
   "source": [
    "ans8: function sys.version "
   ]
  },
  {
   "cell_type": "code",
   "execution_count": null,
   "id": "add505d6-7c7d-4c37-a3fb-9e7629494dd5",
   "metadata": {},
   "outputs": [],
   "source": [
    "ans9: lambda"
   ]
  },
  {
   "cell_type": "code",
   "execution_count": null,
   "id": "96dd2d38-17ad-47b3-a31d-6ebb661dc401",
   "metadata": {},
   "outputs": [],
   "source": [
    "ans10: preffered intaller program"
   ]
  },
  {
   "cell_type": "code",
   "execution_count": null,
   "id": "7ae5442e-ddd3-4429-9933-a0d33b84bb63",
   "metadata": {},
   "outputs": [],
   "source": [
    "ans11: print,input,type"
   ]
  },
  {
   "cell_type": "code",
   "execution_count": null,
   "id": "8490c064-6bdb-4704-b3eb-696dc4a900fb",
   "metadata": {},
   "outputs": [],
   "source": [
    "ans12: 79"
   ]
  },
  {
   "cell_type": "code",
   "execution_count": null,
   "id": "e2f1cdcc-3265-42c1-9a8a-ab1407e40396",
   "metadata": {},
   "outputs": [],
   "source": [
    "ans13:Due to easy syntax, it gained popularity not only among software engineers but also with data scientists and academic researchers. Its simplicity is best for overcoming complex problems and make it the most popular choice for machine learning and data processing."
   ]
  },
  {
   "cell_type": "code",
   "execution_count": null,
   "id": "963f6a8c-e495-4e1b-a401-d179e835793a",
   "metadata": {},
   "outputs": [],
   "source": [
    "ans14:Memory management in Python involves a private heap containing all Python objects and data structures. The management of this private heap is ensured internally by the Python memory manager."
   ]
  },
  {
   "cell_type": "code",
   "execution_count": null,
   "id": "b27e2b29-4be6-4ebc-864c-ea998d42479e",
   "metadata": {},
   "outputs": [],
   "source": [
    "ans15:The complete path of python.exe can be added by:\n",
    "\n",
    "Right-clicking This PC and going to Properties.\n",
    "\n",
    "Clicking on the Advanced system settings in the menu on the left.\n",
    "\n",
    "Clicking on the Environment Variables button o​n the bottom right.\n",
    "\n",
    "In the System variables section, selecting the Path variable and clicking on Edit. The next screen will show all the directories that are currently a part of the PATH variable.\n",
    "\n",
    "Clicking on New and entering Python’s install directory."
   ]
  },
  {
   "cell_type": "code",
   "execution_count": null,
   "id": "43478424-9b44-4b8c-831a-2f7179e1128d",
   "metadata": {},
   "outputs": [],
   "source": [
    "ans16:Indentation refers to the spaces at the beginning of a code line. Where in other programming languages the indentation in code is for readability only, the indentation in Python is very important. Python uses indentation to indicate a block of code."
   ]
  }
 ],
 "metadata": {
  "kernelspec": {
   "display_name": "Python 3 (ipykernel)",
   "language": "python",
   "name": "python3"
  },
  "language_info": {
   "codemirror_mode": {
    "name": "ipython",
    "version": 3
   },
   "file_extension": ".py",
   "mimetype": "text/x-python",
   "name": "python",
   "nbconvert_exporter": "python",
   "pygments_lexer": "ipython3",
   "version": "3.10.8"
  }
 },
 "nbformat": 4,
 "nbformat_minor": 5
}
